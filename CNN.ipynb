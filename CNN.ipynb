{
 "cells": [
  {
   "cell_type": "markdown",
   "metadata": {},
   "source": [
    "# Basic Convolutional Neural Net\n",
    "\n",
    "    * Dataset of images of art from Kaggle (some image files corrupted so must remove)\n",
    "        * https://www.kaggle.com/thedownhill/art-images-drawings-painting-sculpture-engraving\n",
    "    * Classifies the type of art\n",
    "        * Painting\n",
    "        * Engraving\n",
    "        * Sculpture\n",
    "        * Iconography\n",
    "        * Drawing\n",
    "        "
   ]
  },
  {
   "cell_type": "code",
   "execution_count": 1,
   "metadata": {},
   "outputs": [
    {
     "name": "stderr",
     "output_type": "stream",
     "text": [
      "/anaconda3/lib/python3.7/importlib/_bootstrap.py:219: RuntimeWarning: compiletime version 3.6 of module 'tensorflow.python.framework.fast_tensor_util' does not match runtime version 3.7\n",
      "  return f(*args, **kwds)\n"
     ]
    }
   ],
   "source": [
    "from PIL import Image\n",
    "import numpy as np\n",
    "import tensorflow as tf\n",
    "import os\n",
    "from IPython.display import display\n",
    "from IPython.display import Image as _Imgdis\n",
    "from scipy import ndimage\n",
    "from tensorflow.keras.preprocessing.image import ImageDataGenerator, array_to_img, img_to_array, load_img"
   ]
  },
  {
   "cell_type": "markdown",
   "metadata": {},
   "source": [
    "# Load Train and Validation Sets using keras ImageDataGenerator"
   ]
  },
  {
   "cell_type": "code",
   "execution_count": 3,
   "metadata": {},
   "outputs": [
    {
     "name": "stdout",
     "output_type": "stream",
     "text": [
      "Found 7721 images belonging to 6 classes.\n",
      "Found 856 images belonging to 6 classes.\n"
     ]
    }
   ],
   "source": [
    "train_datagen = ImageDataGenerator(rescale = 1./255,\n",
    "shear_range = 0.2,\n",
    "zoom_range = 0.2,\n",
    "horizontal_flip = True)\n",
    "test_datagen = ImageDataGenerator(rescale = 1./255)\n",
    "training_set = train_datagen.flow_from_directory('dataset_updated/training_set',\n",
    "target_size = (64, 64),\n",
    "batch_size = 32,\n",
    "class_mode = 'categorical')\n",
    "test_set = test_datagen.flow_from_directory('dataset_updated/validation_set',\n",
    "target_size = (64, 64),\n",
    "batch_size = 32,\n",
    "class_mode = 'categorical')"
   ]
  },
  {
   "cell_type": "code",
   "execution_count": 9,
   "metadata": {},
   "outputs": [
    {
     "data": {
      "text/plain": [
       "{'.DS_Store': 0,\n",
       " 'drawings': 1,\n",
       " 'engraving': 2,\n",
       " 'iconography': 3,\n",
       " 'painting': 4,\n",
       " 'sculpture': 5}"
      ]
     },
     "execution_count": 9,
     "metadata": {},
     "output_type": "execute_result"
    }
   ],
   "source": [
    "training_set.class_indices # to do : remove DS_Store as a class"
   ]
  },
  {
   "cell_type": "markdown",
   "metadata": {},
   "source": [
    "# Build Convolutional Neural Net\n",
    "1. Using keras sequential\n",
    "2. Add Conv layer\n",
    "    * input shape is that used in generator\n",
    "3. Add MaxPooling layer\n",
    "    * set pool size to (2,2)\n",
    "4. Add Flatten layer\n",
    "5. Add Dense layer\n",
    "6. Add Dense layer\n",
    "    * Number of unites is equal to number of classes"
   ]
  },
  {
   "cell_type": "code",
   "execution_count": 4,
   "metadata": {},
   "outputs": [],
   "source": [
    "classifier_model = tf.keras.Sequential()\n",
    "classifier_model.add(tf.keras.layers.Conv2D(32, (3, 3), input_shape = (64, 64, 3), activation = 'relu'))\n",
    "classifier_model.add(tf.keras.layers.MaxPooling2D(pool_size = (2, 2)))\n",
    "#classifier_model.add(tf.keras.layers.Dropout(0.25))\n",
    "classifier_model.add(tf.keras.layers.Flatten())\n",
    "classifier_model.add(tf.keras.layers.Dense(units = 128, activation = 'relu'))\n",
    "classifier_model.add(tf.keras.layers.Dense(units = 5, activation = 'sigmoid'))"
   ]
  },
  {
   "cell_type": "markdown",
   "metadata": {},
   "source": [
    "# Compile Model"
   ]
  },
  {
   "cell_type": "code",
   "execution_count": 5,
   "metadata": {},
   "outputs": [],
   "source": [
    "classifier_model.compile(optimizer = 'adam', loss = 'categorical_crossentropy', metrics = ['accuracy'])"
   ]
  },
  {
   "cell_type": "markdown",
   "metadata": {},
   "source": [
    "# Train and Validate Model"
   ]
  },
  {
   "cell_type": "code",
   "execution_count": 6,
   "metadata": {},
   "outputs": [
    {
     "name": "stdout",
     "output_type": "stream",
     "text": [
      "Epoch 1/10\n",
      "  59/1000 [>.............................] - ETA: 2:14 - loss: 1.2009 - acc: 0.5376"
     ]
    },
    {
     "name": "stderr",
     "output_type": "stream",
     "text": [
      "/anaconda3/lib/python3.7/site-packages/PIL/Image.py:952: UserWarning: Palette images with Transparency   expressed in bytes should be converted to RGBA images\n",
      "  ' expressed in bytes should be converted ' +\n"
     ]
    },
    {
     "name": "stdout",
     "output_type": "stream",
     "text": [
      " 115/1000 [==>...........................] - ETA: 2:06 - loss: 1.0450 - acc: 0.6122"
     ]
    },
    {
     "name": "stderr",
     "output_type": "stream",
     "text": [
      "/anaconda3/lib/python3.7/site-packages/PIL/TiffImagePlugin.py:754: UserWarning: Possibly corrupt EXIF data.  Expecting to read 6029312 bytes but only got 0. Skipping tag 0\n",
      "  \" Skipping tag %s\" % (size, len(data), tag))\n",
      "/anaconda3/lib/python3.7/site-packages/PIL/TiffImagePlugin.py:754: UserWarning: Possibly corrupt EXIF data.  Expecting to read 1311848 bytes but only got 785. Skipping tag 0\n",
      "  \" Skipping tag %s\" % (size, len(data), tag))\n",
      "/anaconda3/lib/python3.7/site-packages/PIL/TiffImagePlugin.py:771: UserWarning: Corrupt EXIF data.  Expecting to read 12 bytes but only got 8. \n",
      "  warnings.warn(str(msg))\n"
     ]
    },
    {
     "name": "stdout",
     "output_type": "stream",
     "text": [
      "1000/1000 [==============================] - 188s 188ms/step - loss: 0.6508 - acc: 0.7633 - val_loss: 0.6185 - val_acc: 0.7708\n",
      "Epoch 2/10\n",
      "1000/1000 [==============================] - 179s 179ms/step - loss: 0.4482 - acc: 0.8344 - val_loss: 0.6008 - val_acc: 0.7904\n",
      "Epoch 3/10\n",
      "1000/1000 [==============================] - 179s 179ms/step - loss: 0.3699 - acc: 0.8626 - val_loss: 0.6772 - val_acc: 0.7735\n",
      "Epoch 4/10\n",
      "1000/1000 [==============================] - 183s 183ms/step - loss: 0.3164 - acc: 0.8815 - val_loss: 0.5401 - val_acc: 0.8146\n",
      "Epoch 5/10\n",
      "1000/1000 [==============================] - 182s 182ms/step - loss: 0.2673 - acc: 0.8991 - val_loss: 0.6792 - val_acc: 0.7935\n",
      "Epoch 6/10\n",
      "1000/1000 [==============================] - 180s 180ms/step - loss: 0.2209 - acc: 0.9163 - val_loss: 0.6798 - val_acc: 0.8112\n",
      "Epoch 7/10\n",
      "1000/1000 [==============================] - 184s 184ms/step - loss: 0.1930 - acc: 0.9275 - val_loss: 0.6902 - val_acc: 0.8061\n",
      "Epoch 8/10\n",
      "1000/1000 [==============================] - 190s 190ms/step - loss: 0.1709 - acc: 0.9357 - val_loss: 0.7331 - val_acc: 0.8026\n",
      "Epoch 9/10\n",
      "1000/1000 [==============================] - 183s 183ms/step - loss: 0.1511 - acc: 0.9446 - val_loss: 0.8288 - val_acc: 0.8012\n",
      "Epoch 10/10\n",
      "1000/1000 [==============================] - 181s 181ms/step - loss: 0.1367 - acc: 0.9507 - val_loss: 0.7788 - val_acc: 0.8199\n"
     ]
    },
    {
     "data": {
      "text/plain": [
       "<tensorflow.python.keras.callbacks.History at 0x10d1ef198>"
      ]
     },
     "execution_count": 6,
     "metadata": {},
     "output_type": "execute_result"
    }
   ],
   "source": [
    "classifier_model.fit_generator(training_set,\n",
    "steps_per_epoch = 1000,\n",
    "epochs = 10,\n",
    "validation_data = test_set,\n",
    "validation_steps = 500)"
   ]
  },
  {
   "cell_type": "code",
   "execution_count": null,
   "metadata": {},
   "outputs": [],
   "source": []
  }
 ],
 "metadata": {
  "kernelspec": {
   "display_name": "Python 3",
   "language": "python",
   "name": "python3"
  },
  "language_info": {
   "codemirror_mode": {
    "name": "ipython",
    "version": 3
   },
   "file_extension": ".py",
   "mimetype": "text/x-python",
   "name": "python",
   "nbconvert_exporter": "python",
   "pygments_lexer": "ipython3",
   "version": "3.7.1"
  }
 },
 "nbformat": 4,
 "nbformat_minor": 2
}
